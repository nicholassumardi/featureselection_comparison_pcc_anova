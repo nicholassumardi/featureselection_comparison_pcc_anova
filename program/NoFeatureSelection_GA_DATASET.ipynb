{
 "cells": [
  {
   "cell_type": "code",
   "execution_count": 1,
   "metadata": {},
   "outputs": [],
   "source": [
    "import math\n",
    "import cmath\n",
    "import sys\n",
    "import traceback\n",
    "import pandas as pd\n",
    "import numpy as np\n",
    "import seaborn as sns\n",
    "import scipy as sp\n",
    "from scipy import stats\n",
    "from scipy.stats import t\n",
    "from sklearn import model_selection\n",
    "import psutil"
   ]
  },
  {
   "cell_type": "code",
   "execution_count": 2,
   "metadata": {},
   "outputs": [
    {
     "data": {
      "text/plain": [
       "(600, 8)"
      ]
     },
     "execution_count": 2,
     "metadata": {},
     "output_type": "execute_result"
    }
   ],
   "source": [
    "\n",
    "\n",
    "data = pd.read_csv(\"D:\\data_ga.csv\")\n",
    "df = pd.DataFrame(data)\n",
    "\n",
    "\n",
    "\n",
    "\n",
    "\n",
    "df.replace([np.inf, -np.inf], np.nan, inplace=True)\n",
    "df.dropna(inplace=True)\n",
    "df.isnull().sum()\n",
    "df.shape"
   ]
  },
  {
   "cell_type": "code",
   "execution_count": 3,
   "metadata": {},
   "outputs": [],
   "source": [
    "class classifier :\n",
    "    validation_size = 0.60\n",
    "    seed = 7     \n",
    "            \n",
    "    def model(self):\n",
    "        try:\n",
    "            # new_df = pd.DataFrame(data)\n",
    "            # new_df.drop(drop_features, axis=1, inplace=True)\n",
    "            # new_df.drop('Id', axis=1, inplace=True)\n",
    "        \n",
    "            \n",
    "            X = df.values[:,:-1]\n",
    "            Y = df.values[:,-1:]\n",
    "            \n",
    "      \n",
    "            np.random.seed(classifier.seed)\n",
    "            \n",
    "            X_train, X_test, Y_train, Y_test = model_selection.train_test_split(X, Y, test_size=classifier.validation_size, random_state=classifier.seed)\n",
    "            \n",
    "        \n",
    "            return (X_train, X_test, Y_train, Y_test)\n",
    "        except Exception as e:\n",
    "            raise \n",
    "            \n",
    "            \n",
    "    def KNN(self, X_train, X_test, Y_train, Y_test):\n",
    "        try:\n",
    "            from sklearn.neighbors import KNeighborsClassifier\n",
    "            model_KNN = KNeighborsClassifier(n_neighbors = 5, weights = 'distance', p = 3)\n",
    "            \n",
    "            \n",
    "            \n",
    "            model_KNN.fit(X_train,Y_train.ravel())\n",
    "            Y_pred = model_KNN.predict(X_test)\n",
    "            \n",
    "            print('1) Confusion Matrix for KNN Model:')\n",
    "            confusion_mat = pd.crosstab(Y_test.flatten(), Y_pred, rownames=['Actual'], colnames=['Predicted'], margins=True)\n",
    "            from IPython.display import display\n",
    "            display(confusion_mat)\n",
    "            \n",
    "            from sklearn.metrics import classification_report\n",
    "            cr = classification_report(Y_test, Y_pred, labels=None, target_names=None, sample_weight=None, digits=2)\n",
    "            print('2) Classification report:\\n',cr)\n",
    "            \n",
    "            accuracy_train = model_KNN.score(X_train,Y_train)\n",
    "            accuracy_test = model_KNN.score(X_test,Y_test)\n",
    "            print('3) Accuracy on train and test datasets:', \"%.4f and %.4f\" % (accuracy_train, accuracy_test))\n",
    "           \n",
    "            \n",
    "            return (accuracy_train, accuracy_test)\n",
    "        \n",
    "        \n",
    "        \n",
    "            \n",
    "        except Exception as e:\n",
    "            raise \n",
    "            \n",
    "            \n",
    "    def DecisionTree(self, X_train, X_test, Y_train, Y_test):\n",
    "        try:\n",
    "           from sklearn.tree import DecisionTreeClassifier\n",
    "           model_DT = DecisionTreeClassifier(min_samples_leaf = 3, random_state = classifier.seed)\n",
    "           \n",
    "           \n",
    "           model_DT.fit(X_train,Y_train)\n",
    "           Y_pred = model_DT.predict(X_test)\n",
    "            \n",
    "           print('1) Confusion Matrix for DT Model:')\n",
    "           confusion_mat = pd.crosstab(Y_test.flatten(), Y_pred, rownames=['Actual'], colnames=['Predicted'], margins=True)\n",
    "           from IPython.display import display\n",
    "           display(confusion_mat)\n",
    "            \n",
    "           from sklearn.metrics import classification_report\n",
    "           cr = classification_report(Y_test.flatten(), Y_pred, labels=None, target_names=None, sample_weight=None, digits=2)\n",
    "           print('2) Classification report:\\n',cr)\n",
    "            \n",
    "           accuracy_train = model_DT.score(X_train,Y_train)\n",
    "           accuracy_test = model_DT.score(X_test,Y_test)\n",
    "           print('3) Accuracy on train and test datasets:', \"%.4f and %.4f\" % (accuracy_train, accuracy_test))\n",
    "           \n",
    "           return (accuracy_train, accuracy_test)\n",
    "       \n",
    "        \n",
    "        except Exception as e:\n",
    "            raise \n",
    "            \n",
    "            \n",
    "    def SupportVectorMachine(self, X_train, X_test, Y_train, Y_test):\n",
    "        try:\n",
    "            from sklearn import svm\n",
    "            model_SVC = svm.SVC(gamma = 'auto')\n",
    "            \n",
    "            \n",
    "            model_SVC.fit(X_train,Y_train)\n",
    "            Y_pred = model_SVC.predict(X_test)\n",
    "            \n",
    "            print('1) Confusion Matrix for SVC Model:')\n",
    "            confusion_mat = pd.crosstab(Y_test.flatten(), Y_pred, rownames=['Actual'], colnames=['Predicted'], margins=True)\n",
    "            from IPython.display import display\n",
    "            display(confusion_mat)\n",
    "            \n",
    "            from sklearn.metrics import classification_report\n",
    "            cr = classification_report(Y_test, Y_pred, labels=None, target_names=None, sample_weight=None, digits=2)\n",
    "            print('2) Classification report:\\n',cr)\n",
    "            \n",
    "            accuracy_train = model_SVC.score(X_train,Y_train)\n",
    "            accuracy_test = model_SVC.score(X_test,Y_test)\n",
    "            print('3) Accuracy on train and test datasets:', \"%.4f and %.4f\" % (accuracy_train, accuracy_test))\n",
    "            \n",
    "            return (accuracy_train, accuracy_test)\n",
    "        \n",
    "        \n",
    "        except Exception as e:\n",
    "            raise \n",
    "            \n",
    "            \n",
    "    def NaiveBayes(self, X_train, X_test, Y_train, Y_test):\n",
    "        try:\n",
    "            from sklearn.naive_bayes import GaussianNB\n",
    "            model_NB = GaussianNB()\n",
    "            \n",
    "            \n",
    "            model_NB.fit(X_train,Y_train)\n",
    "            Y_pred = model_NB.predict(X_test)\n",
    "            \n",
    "            print('1) Confusion Matrix for NB Model:')\n",
    "            confusion_mat = pd.crosstab(Y_test.flatten(), Y_pred, rownames=['Actual'], colnames=['Predicted'], margins=True)\n",
    "            from IPython.display import display\n",
    "            display(confusion_mat)\n",
    "            \n",
    "            from sklearn.metrics import classification_report\n",
    "            cr = classification_report(Y_test, Y_pred, labels=None, target_names=None, sample_weight=None, digits=2)\n",
    "            print('2) Classification report:\\n',cr)\n",
    "            \n",
    "            accuracy_train = model_NB.score(X_train,Y_train)\n",
    "            accuracy_test = model_NB.score(X_test,Y_test)\n",
    "            print('3) Accuracy on train and test datasets:', \"%.4f and %.4f\" % (accuracy_train, accuracy_test))\n",
    "            \n",
    "           \n",
    "            return (accuracy_train, accuracy_test)\n",
    "        \n",
    "        \n",
    "        except Exception as e:\n",
    "            raise "
   ]
  },
  {
   "cell_type": "code",
   "execution_count": 4,
   "metadata": {},
   "outputs": [],
   "source": [
    "if __name__ == '__main__':\n",
    "    try:\n",
    "        \n",
    "        \n",
    "        objClassifier = classifier()\n",
    "        \n",
    "       \n",
    "        model = objClassifier.model()\n",
    "        \n",
    "       \n",
    "        \n",
    "                \n",
    "          \n",
    "    except Exception as e:\n",
    "        traceback.print_exc()\n",
    "        sys.exit(1)"
   ]
  },
  {
   "cell_type": "code",
   "execution_count": 5,
   "metadata": {},
   "outputs": [
    {
     "name": "stdout",
     "output_type": "stream",
     "text": [
      "1) Confusion Matrix for KNN Model:\n"
     ]
    },
    {
     "data": {
      "text/html": [
       "<div>\n",
       "<style scoped>\n",
       "    .dataframe tbody tr th:only-of-type {\n",
       "        vertical-align: middle;\n",
       "    }\n",
       "\n",
       "    .dataframe tbody tr th {\n",
       "        vertical-align: top;\n",
       "    }\n",
       "\n",
       "    .dataframe thead th {\n",
       "        text-align: right;\n",
       "    }\n",
       "</style>\n",
       "<table border=\"1\" class=\"dataframe\">\n",
       "  <thead>\n",
       "    <tr style=\"text-align: right;\">\n",
       "      <th>Predicted</th>\n",
       "      <th>1.0</th>\n",
       "      <th>2.0</th>\n",
       "      <th>All</th>\n",
       "    </tr>\n",
       "    <tr>\n",
       "      <th>Actual</th>\n",
       "      <th></th>\n",
       "      <th></th>\n",
       "      <th></th>\n",
       "    </tr>\n",
       "  </thead>\n",
       "  <tbody>\n",
       "    <tr>\n",
       "      <th>1.0</th>\n",
       "      <td>149</td>\n",
       "      <td>29</td>\n",
       "      <td>178</td>\n",
       "    </tr>\n",
       "    <tr>\n",
       "      <th>2.0</th>\n",
       "      <td>15</td>\n",
       "      <td>167</td>\n",
       "      <td>182</td>\n",
       "    </tr>\n",
       "    <tr>\n",
       "      <th>All</th>\n",
       "      <td>164</td>\n",
       "      <td>196</td>\n",
       "      <td>360</td>\n",
       "    </tr>\n",
       "  </tbody>\n",
       "</table>\n",
       "</div>"
      ],
      "text/plain": [
       "Predicted  1.0  2.0  All\n",
       "Actual                  \n",
       "1.0        149   29  178\n",
       "2.0         15  167  182\n",
       "All        164  196  360"
      ]
     },
     "metadata": {},
     "output_type": "display_data"
    },
    {
     "name": "stdout",
     "output_type": "stream",
     "text": [
      "2) Classification report:\n",
      "               precision    recall  f1-score   support\n",
      "\n",
      "         1.0       0.91      0.84      0.87       178\n",
      "         2.0       0.85      0.92      0.88       182\n",
      "\n",
      "    accuracy                           0.88       360\n",
      "   macro avg       0.88      0.88      0.88       360\n",
      "weighted avg       0.88      0.88      0.88       360\n",
      "\n",
      "3) Accuracy on train and test datasets: 1.0000 and 0.8778\n"
     ]
    }
   ],
   "source": [
    "KNN = objClassifier.KNN(model[0], model[1], model[2], model[3])"
   ]
  },
  {
   "cell_type": "code",
   "execution_count": 6,
   "metadata": {},
   "outputs": [
    {
     "name": "stdout",
     "output_type": "stream",
     "text": [
      "1) Confusion Matrix for DT Model:\n"
     ]
    },
    {
     "data": {
      "text/html": [
       "<div>\n",
       "<style scoped>\n",
       "    .dataframe tbody tr th:only-of-type {\n",
       "        vertical-align: middle;\n",
       "    }\n",
       "\n",
       "    .dataframe tbody tr th {\n",
       "        vertical-align: top;\n",
       "    }\n",
       "\n",
       "    .dataframe thead th {\n",
       "        text-align: right;\n",
       "    }\n",
       "</style>\n",
       "<table border=\"1\" class=\"dataframe\">\n",
       "  <thead>\n",
       "    <tr style=\"text-align: right;\">\n",
       "      <th>Predicted</th>\n",
       "      <th>1.0</th>\n",
       "      <th>2.0</th>\n",
       "      <th>All</th>\n",
       "    </tr>\n",
       "    <tr>\n",
       "      <th>Actual</th>\n",
       "      <th></th>\n",
       "      <th></th>\n",
       "      <th></th>\n",
       "    </tr>\n",
       "  </thead>\n",
       "  <tbody>\n",
       "    <tr>\n",
       "      <th>1.0</th>\n",
       "      <td>146</td>\n",
       "      <td>32</td>\n",
       "      <td>178</td>\n",
       "    </tr>\n",
       "    <tr>\n",
       "      <th>2.0</th>\n",
       "      <td>43</td>\n",
       "      <td>139</td>\n",
       "      <td>182</td>\n",
       "    </tr>\n",
       "    <tr>\n",
       "      <th>All</th>\n",
       "      <td>189</td>\n",
       "      <td>171</td>\n",
       "      <td>360</td>\n",
       "    </tr>\n",
       "  </tbody>\n",
       "</table>\n",
       "</div>"
      ],
      "text/plain": [
       "Predicted  1.0  2.0  All\n",
       "Actual                  \n",
       "1.0        146   32  178\n",
       "2.0         43  139  182\n",
       "All        189  171  360"
      ]
     },
     "metadata": {},
     "output_type": "display_data"
    },
    {
     "name": "stdout",
     "output_type": "stream",
     "text": [
      "2) Classification report:\n",
      "               precision    recall  f1-score   support\n",
      "\n",
      "         1.0       0.77      0.82      0.80       178\n",
      "         2.0       0.81      0.76      0.79       182\n",
      "\n",
      "    accuracy                           0.79       360\n",
      "   macro avg       0.79      0.79      0.79       360\n",
      "weighted avg       0.79      0.79      0.79       360\n",
      "\n",
      "3) Accuracy on train and test datasets: 0.9667 and 0.7917\n"
     ]
    }
   ],
   "source": [
    "DT = objClassifier.DecisionTree(model[0], model[1], model[2], model[3])"
   ]
  },
  {
   "cell_type": "code",
   "execution_count": 7,
   "metadata": {},
   "outputs": [
    {
     "name": "stderr",
     "output_type": "stream",
     "text": [
      "D:\\Anaconda\\lib\\site-packages\\sklearn\\utils\\validation.py:63: DataConversionWarning: A column-vector y was passed when a 1d array was expected. Please change the shape of y to (n_samples, ), for example using ravel().\n",
      "  return f(*args, **kwargs)\n"
     ]
    },
    {
     "name": "stdout",
     "output_type": "stream",
     "text": [
      "1) Confusion Matrix for SVC Model:\n"
     ]
    },
    {
     "data": {
      "text/html": [
       "<div>\n",
       "<style scoped>\n",
       "    .dataframe tbody tr th:only-of-type {\n",
       "        vertical-align: middle;\n",
       "    }\n",
       "\n",
       "    .dataframe tbody tr th {\n",
       "        vertical-align: top;\n",
       "    }\n",
       "\n",
       "    .dataframe thead th {\n",
       "        text-align: right;\n",
       "    }\n",
       "</style>\n",
       "<table border=\"1\" class=\"dataframe\">\n",
       "  <thead>\n",
       "    <tr style=\"text-align: right;\">\n",
       "      <th>Predicted</th>\n",
       "      <th>1.0</th>\n",
       "      <th>2.0</th>\n",
       "      <th>All</th>\n",
       "    </tr>\n",
       "    <tr>\n",
       "      <th>Actual</th>\n",
       "      <th></th>\n",
       "      <th></th>\n",
       "      <th></th>\n",
       "    </tr>\n",
       "  </thead>\n",
       "  <tbody>\n",
       "    <tr>\n",
       "      <th>1.0</th>\n",
       "      <td>139</td>\n",
       "      <td>39</td>\n",
       "      <td>178</td>\n",
       "    </tr>\n",
       "    <tr>\n",
       "      <th>2.0</th>\n",
       "      <td>84</td>\n",
       "      <td>98</td>\n",
       "      <td>182</td>\n",
       "    </tr>\n",
       "    <tr>\n",
       "      <th>All</th>\n",
       "      <td>223</td>\n",
       "      <td>137</td>\n",
       "      <td>360</td>\n",
       "    </tr>\n",
       "  </tbody>\n",
       "</table>\n",
       "</div>"
      ],
      "text/plain": [
       "Predicted  1.0  2.0  All\n",
       "Actual                  \n",
       "1.0        139   39  178\n",
       "2.0         84   98  182\n",
       "All        223  137  360"
      ]
     },
     "metadata": {},
     "output_type": "display_data"
    },
    {
     "name": "stdout",
     "output_type": "stream",
     "text": [
      "2) Classification report:\n",
      "               precision    recall  f1-score   support\n",
      "\n",
      "         1.0       0.62      0.78      0.69       178\n",
      "         2.0       0.72      0.54      0.61       182\n",
      "\n",
      "    accuracy                           0.66       360\n",
      "   macro avg       0.67      0.66      0.65       360\n",
      "weighted avg       0.67      0.66      0.65       360\n",
      "\n",
      "3) Accuracy on train and test datasets: 0.7042 and 0.6583\n"
     ]
    }
   ],
   "source": [
    "SVM = objClassifier.SupportVectorMachine(model[0], model[1], model[2], model[3])"
   ]
  },
  {
   "cell_type": "code",
   "execution_count": 8,
   "metadata": {},
   "outputs": [
    {
     "name": "stdout",
     "output_type": "stream",
     "text": [
      "1) Confusion Matrix for NB Model:\n"
     ]
    },
    {
     "name": "stderr",
     "output_type": "stream",
     "text": [
      "D:\\Anaconda\\lib\\site-packages\\sklearn\\utils\\validation.py:63: DataConversionWarning: A column-vector y was passed when a 1d array was expected. Please change the shape of y to (n_samples, ), for example using ravel().\n",
      "  return f(*args, **kwargs)\n"
     ]
    },
    {
     "data": {
      "text/html": [
       "<div>\n",
       "<style scoped>\n",
       "    .dataframe tbody tr th:only-of-type {\n",
       "        vertical-align: middle;\n",
       "    }\n",
       "\n",
       "    .dataframe tbody tr th {\n",
       "        vertical-align: top;\n",
       "    }\n",
       "\n",
       "    .dataframe thead th {\n",
       "        text-align: right;\n",
       "    }\n",
       "</style>\n",
       "<table border=\"1\" class=\"dataframe\">\n",
       "  <thead>\n",
       "    <tr style=\"text-align: right;\">\n",
       "      <th>Predicted</th>\n",
       "      <th>1.0</th>\n",
       "      <th>2.0</th>\n",
       "      <th>All</th>\n",
       "    </tr>\n",
       "    <tr>\n",
       "      <th>Actual</th>\n",
       "      <th></th>\n",
       "      <th></th>\n",
       "      <th></th>\n",
       "    </tr>\n",
       "  </thead>\n",
       "  <tbody>\n",
       "    <tr>\n",
       "      <th>1.0</th>\n",
       "      <td>154</td>\n",
       "      <td>24</td>\n",
       "      <td>178</td>\n",
       "    </tr>\n",
       "    <tr>\n",
       "      <th>2.0</th>\n",
       "      <td>69</td>\n",
       "      <td>113</td>\n",
       "      <td>182</td>\n",
       "    </tr>\n",
       "    <tr>\n",
       "      <th>All</th>\n",
       "      <td>223</td>\n",
       "      <td>137</td>\n",
       "      <td>360</td>\n",
       "    </tr>\n",
       "  </tbody>\n",
       "</table>\n",
       "</div>"
      ],
      "text/plain": [
       "Predicted  1.0  2.0  All\n",
       "Actual                  \n",
       "1.0        154   24  178\n",
       "2.0         69  113  182\n",
       "All        223  137  360"
      ]
     },
     "metadata": {},
     "output_type": "display_data"
    },
    {
     "name": "stdout",
     "output_type": "stream",
     "text": [
      "2) Classification report:\n",
      "               precision    recall  f1-score   support\n",
      "\n",
      "         1.0       0.69      0.87      0.77       178\n",
      "         2.0       0.82      0.62      0.71       182\n",
      "\n",
      "    accuracy                           0.74       360\n",
      "   macro avg       0.76      0.74      0.74       360\n",
      "weighted avg       0.76      0.74      0.74       360\n",
      "\n",
      "3) Accuracy on train and test datasets: 0.7333 and 0.7417\n"
     ]
    }
   ],
   "source": [
    "NB = objClassifier.NaiveBayes(model[0], model[1], model[2], model[3])"
   ]
  },
  {
   "cell_type": "code",
   "execution_count": 9,
   "metadata": {},
   "outputs": [
    {
     "name": "stdout",
     "output_type": "stream",
     "text": [
      "The CPU usage is:  13.2\n",
      "RAM memory % used: 94.9\n"
     ]
    }
   ],
   "source": [
    "print('The CPU usage is: ', psutil.cpu_percent())\n",
    "  \n",
    "# Getting % usage of virtual_memory ( 3rd field)\n",
    "print('RAM memory % used:', psutil.virtual_memory()[2])"
   ]
  },
  {
   "cell_type": "code",
   "execution_count": null,
   "metadata": {},
   "outputs": [],
   "source": []
  },
  {
   "cell_type": "code",
   "execution_count": null,
   "metadata": {},
   "outputs": [],
   "source": []
  },
  {
   "cell_type": "code",
   "execution_count": null,
   "metadata": {},
   "outputs": [],
   "source": []
  },
  {
   "cell_type": "code",
   "execution_count": null,
   "metadata": {},
   "outputs": [],
   "source": []
  },
  {
   "cell_type": "code",
   "execution_count": null,
   "metadata": {},
   "outputs": [],
   "source": []
  }
 ],
 "metadata": {
  "kernelspec": {
   "display_name": "Python 3",
   "language": "python",
   "name": "python3"
  },
  "language_info": {
   "codemirror_mode": {
    "name": "ipython",
    "version": 3
   },
   "file_extension": ".py",
   "mimetype": "text/x-python",
   "name": "python",
   "nbconvert_exporter": "python",
   "pygments_lexer": "ipython3",
   "version": "3.8.5"
  }
 },
 "nbformat": 4,
 "nbformat_minor": 4
}
